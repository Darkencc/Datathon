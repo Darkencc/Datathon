{
 "cells": [
  {
   "cell_type": "code",
   "execution_count": 1,
   "metadata": {},
   "outputs": [],
   "source": [
    "import pandas as pd\n",
    "import numpy as np\n",
    "import matplotlib.pyplot as plt\n",
    "import seaborn as sns\n",
    "%matplotlib inline"
   ]
  },
  {
   "cell_type": "code",
   "execution_count": 2,
   "metadata": {},
   "outputs": [
    {
     "name": "stdout",
     "output_type": "stream",
     "text": [
      "<class 'pandas.core.frame.DataFrame'>\n",
      "RangeIndex: 2000 entries, 0 to 1999\n",
      "Data columns (total 11 columns):\n",
      " #   Column               Non-Null Count  Dtype \n",
      "---  ------               --------------  ----- \n",
      " 0   ID                   2000 non-null   int64 \n",
      " 1   Warehouse_block      2000 non-null   object\n",
      " 2   Mode_of_Shipment     2000 non-null   object\n",
      " 3   Customer_care_calls  2000 non-null   int64 \n",
      " 4   Customer_rating      2000 non-null   int64 \n",
      " 5   Cost_of_the_Product  2000 non-null   int64 \n",
      " 6   Prior_purchases      2000 non-null   int64 \n",
      " 7   Product_importance   2000 non-null   object\n",
      " 8   Gender               2000 non-null   object\n",
      " 9   Discount_offered     2000 non-null   int64 \n",
      " 10  Weight_in_gms        2000 non-null   int64 \n",
      "dtypes: int64(7), object(4)\n",
      "memory usage: 172.0+ KB\n"
     ]
    }
   ],
   "source": [
    "data_test = pd.read_excel(r\"./E-Commerce_test.xlsx\")\n",
    "data_test.info()"
   ]
  },
  {
   "cell_type": "code",
   "execution_count": 4,
   "metadata": {},
   "outputs": [
    {
     "name": "stdout",
     "output_type": "stream",
     "text": [
      "Categóricas = ['Warehouse_block', 'Mode_of_Shipment', 'Product_importance', 'Gender']\n",
      "Numéricas = ['ID', 'Customer_care_calls', 'Customer_rating', 'Cost_of_the_Product', 'Prior_purchases', 'Discount_offered', 'Weight_in_gms']\n"
     ]
    }
   ],
   "source": [
    "#Separamos las etiquetas de las variables categoricas y las numéricas\n",
    "cat=[]\n",
    "num=[]\n",
    "for i in data_test.columns:\n",
    "  if data_test[i].dtype == 'object':\n",
    "    cat.append(i)\n",
    "  else:\n",
    "    num.append(i)\n",
    "    \n",
    "print(f'Categóricas = {cat}')\n",
    "print(f'Numéricas = {num}')"
   ]
  },
  {
   "cell_type": "code",
   "execution_count": null,
   "metadata": {},
   "outputs": [],
   "source": [
    "#Eliminando columna innecesaria\n",
    "data_test.drop(['ID'],axis=1, inplace=True)\n",
    "\n",
    "#Eliminando \n",
    "num.pop()"
   ]
  }
 ],
 "metadata": {
  "kernelspec": {
   "display_name": "Python 3.9.7 ('base')",
   "language": "python",
   "name": "python3"
  },
  "language_info": {
   "codemirror_mode": {
    "name": "ipython",
    "version": 3
   },
   "file_extension": ".py",
   "mimetype": "text/x-python",
   "name": "python",
   "nbconvert_exporter": "python",
   "pygments_lexer": "ipython3",
   "version": "3.9.7"
  },
  "orig_nbformat": 4,
  "vscode": {
   "interpreter": {
    "hash": "afdd5ba72fc3315a25542174f0f50ae897596566d84209ad5603a718a19cb345"
   }
  }
 },
 "nbformat": 4,
 "nbformat_minor": 2
}
